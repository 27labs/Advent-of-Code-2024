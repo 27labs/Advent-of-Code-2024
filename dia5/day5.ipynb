{
 "cells": [
  {
   "cell_type": "markdown",
   "metadata": {},
   "source": [
    "## Parte 1"
   ]
  },
  {
   "cell_type": "code",
   "execution_count": 78,
   "metadata": {},
   "outputs": [],
   "source": [
    "def split_rules_updates(puzzle_input):\n",
    "\treturn (\n",
    "\t\tpuzzle_input[:puzzle_input.index(\"\\n\")],\n",
    "\t\tpuzzle_input[puzzle_input.index(\"\\n\")+1:]\n",
    "\t)"
   ]
  },
  {
   "cell_type": "code",
   "execution_count": 79,
   "metadata": {},
   "outputs": [],
   "source": [
    "def parse_rules(page_rules):\n",
    "\trules = {}\n",
    "\n",
    "\tfor rule_string in page_rules:\n",
    "\t\trule = rule_string.strip().split(\"|\")\n",
    "\t\tif rule[1] in rules:\n",
    "\t\t\trules[rule[1]] = [rule[0]] + rules[rule[1]]\n",
    "\t\telse:\n",
    "\t\t\trules[rule[1]] = [rule[0]]\n",
    "\treturn rules"
   ]
  },
  {
   "cell_type": "code",
   "execution_count": 80,
   "metadata": {},
   "outputs": [],
   "source": [
    "def check_order(pages, rules):\n",
    "\tbuffer = set([])\n",
    "\tpages.reverse()\n",
    "\n",
    "\tfor page in pages:\n",
    "\t\tif page in rules:\n",
    "\t\t\t# print(rules[page])\n",
    "\t\t\t# print(buffer)\n",
    "\t\t\tif not buffer.intersection(set(rules[page])):\n",
    "\t\t\t\tbuffer.add(page)\n",
    "\t\t\telse:\n",
    "\t\t\t\treturn False\n",
    "\t\telse:\n",
    "\t\t\tbuffer.add(page)\n",
    "\t\t\n",
    "\treturn True"
   ]
  },
  {
   "cell_type": "code",
   "execution_count": 81,
   "metadata": {},
   "outputs": [
    {
     "name": "stdout",
     "output_type": "stream",
     "text": [
      "6041\n"
     ]
    }
   ],
   "source": [
    "input = open(\"input.txt\")\n",
    "\n",
    "update_rules, manual_updates = split_rules_updates(input.readlines())\n",
    "update_rules = parse_rules(update_rules)\n",
    "\n",
    "sum_of_page_numbers = 0\n",
    "\n",
    "for update in manual_updates:\n",
    "\tpage_numbers = update.strip().split(',')\n",
    "\tif check_order(page_numbers, update_rules):\n",
    "\t\tsum_of_page_numbers += int(page_numbers[len(page_numbers)//2])\n",
    "\n",
    "print(sum_of_page_numbers)"
   ]
  },
  {
   "cell_type": "markdown",
   "metadata": {},
   "source": [
    "## Parte 2"
   ]
  },
  {
   "cell_type": "code",
   "execution_count": 96,
   "metadata": {},
   "outputs": [],
   "source": [
    "def order_update(pages, rules):\n",
    "\tbuffer = set([])\n",
    "\n",
    "\tindex = len(pages) -1\n",
    "\twhile index >= 0:\n",
    "\t\tpage = pages[index]\n",
    "\t\tif page in rules:\n",
    "\t\t\tbefore_pages = buffer.intersection(set(rules[page]))\n",
    "\t\t\tif not before_pages:\n",
    "\t\t\t\tbuffer.add(page)\n",
    "\t\t\t\tindex -= 1\n",
    "\t\t\telse:\n",
    "\t\t\t\tfor page_number in before_pages:\n",
    "\t\t\t\t\ta_index = pages.index(page_number)\n",
    "\t\t\t\t\tpages.insert(index,page_number)\n",
    "\t\t\t\t\tdel pages[a_index+1]\n",
    "\t\t\t\tbuffer = set([])\n",
    "\t\t\t\tindex = len(pages) -1\n",
    "\t\telse:\n",
    "\t\t\tbuffer.add(page)\n",
    "\t\t\tindex -= 1\n",
    "\t\t\n",
    "\treturn pages"
   ]
  },
  {
   "cell_type": "code",
   "execution_count": 97,
   "metadata": {},
   "outputs": [
    {
     "name": "stdout",
     "output_type": "stream",
     "text": [
      "4884\n"
     ]
    }
   ],
   "source": [
    "input = open(\"input.txt\")\n",
    "\n",
    "update_rules, manual_updates = split_rules_updates(input.readlines())\n",
    "update_rules = parse_rules(update_rules)\n",
    "\n",
    "sum_of_page_numbers = 0\n",
    "\n",
    "for update in manual_updates:\n",
    "\tpage_numbers = update.strip().split(',')\n",
    "\tif not check_order(page_numbers, update_rules):\n",
    "\t\tpage_numbers = order_update(page_numbers, update_rules)\n",
    "\t\tsum_of_page_numbers += int(page_numbers[len(page_numbers)//2])\n",
    "\t\t\n",
    "\n",
    "print(sum_of_page_numbers)"
   ]
  }
 ],
 "metadata": {
  "kernelspec": {
   "display_name": ".venv",
   "language": "python",
   "name": "python3"
  },
  "language_info": {
   "codemirror_mode": {
    "name": "ipython",
    "version": 3
   },
   "file_extension": ".py",
   "mimetype": "text/x-python",
   "name": "python",
   "nbconvert_exporter": "python",
   "pygments_lexer": "ipython3",
   "version": "3.9.6"
  }
 },
 "nbformat": 4,
 "nbformat_minor": 2
}
