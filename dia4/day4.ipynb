{
 "cells": [
  {
   "cell_type": "markdown",
   "metadata": {},
   "source": [
    "## Parte 1"
   ]
  },
  {
   "cell_type": "code",
   "execution_count": 19,
   "metadata": {},
   "outputs": [],
   "source": [
    "def letter_map_1(puzzle_input):\n",
    "\tletter_buffer = {\"X\":[],\"M\":[],\"A\":[],\"S\":[]}\n",
    "\tfor line_index in range(len(puzzle_input)):\n",
    "\t\tfor character_index in range(len(puzzle_input[line_index])):\n",
    "\t\t\tif puzzle_input[line_index][character_index] == \"X\":\n",
    "\t\t\t\tletter_buffer[\"X\"].append({\"y\":line_index,\"x\":character_index})\n",
    "\t\t\t\tcontinue\n",
    "\t\t\tif puzzle_input[line_index][character_index] == \"M\":\n",
    "\t\t\t\tletter_buffer[\"M\"].append({\"y\":line_index,\"x\":character_index})\n",
    "\t\t\t\tcontinue\n",
    "\t\t\tif puzzle_input[line_index][character_index] == \"A\":\n",
    "\t\t\t\tletter_buffer[\"A\"].append({\"y\":line_index,\"x\":character_index})\n",
    "\t\t\t\tcontinue\n",
    "\t\t\tif puzzle_input[line_index][character_index] == \"S\":\n",
    "\t\t\t\tletter_buffer[\"S\"].append({\"y\":line_index,\"x\":character_index})\n",
    "\t\t\t\tcontinue\n",
    "\n",
    "\treturn letter_buffer"
   ]
  },
  {
   "cell_type": "code",
   "execution_count": 20,
   "metadata": {},
   "outputs": [],
   "source": [
    "def word_search_1(characters):\n",
    "\tdirections = [\n",
    "\t\t\t{\"x\": 0, \"y\": -1},\n",
    "\t\t\t{\"x\": 1, \"y\": -1},\n",
    "\t\t\t{\"x\": 1, \"y\": 0},\n",
    "\t\t\t{\"x\": 1, \"y\": 1},\n",
    "\t\t\t{\"x\": 0, \"y\": 1},\n",
    "\t\t\t{\"x\": -1, \"y\": 1},\n",
    "\t\t\t{\"x\": -1, \"y\": 0},\n",
    "\t\t\t{\"x\": -1, \"y\": -1},\n",
    "\t\t]\n",
    "\t\n",
    "\tletters = [\"X\",\"M\",\"A\",\"S\"]\n",
    "\n",
    "\tamount = 0\n",
    "\t\n",
    "\tfor ocurrence in characters[\"X\"]:\n",
    "\t\t# print(ocurrence)\n",
    "\t\tfor direction in directions:\n",
    "\t\t\tdepth = 0\n",
    "\t\t\twhile depth < 3:\n",
    "\t\t\t\t# print(depth)\n",
    "\t\t\t\tif {\n",
    "\t\t\t\t\t\"x\": ocurrence[\"x\"]\n",
    "\t\t\t\t\t+ direction[\"x\"]\n",
    "\t\t\t\t\t* (depth + 1),\n",
    "\t\t\t\t\t\"y\": ocurrence[\"y\"]\n",
    "\t\t\t\t\t+ direction[\"y\"]\n",
    "\t\t\t\t\t* (depth + 1),\n",
    "\t\t\t\t\t} in characters[letters[depth+1]]:\n",
    "\t\t\t\t\tdepth += 1\n",
    "\t\t\t\telse:\n",
    "\t\t\t\t\tbreak\n",
    "\t\t\tif depth > 2:\n",
    "\t\t\t\tamount += 1\n",
    "\n",
    "\treturn amount"
   ]
  },
  {
   "cell_type": "code",
   "execution_count": 21,
   "metadata": {},
   "outputs": [
    {
     "name": "stdout",
     "output_type": "stream",
     "text": [
      "2603\n"
     ]
    }
   ],
   "source": [
    "input = open(\"input.txt\")\n",
    "\n",
    "print(word_search_1(letter_map_1(input.readlines())))"
   ]
  },
  {
   "cell_type": "markdown",
   "metadata": {},
   "source": [
    "## Parte 2"
   ]
  },
  {
   "cell_type": "code",
   "execution_count": 22,
   "metadata": {},
   "outputs": [],
   "source": [
    "def letter_map_2(puzzle_input):\n",
    "\tletter_buffer = {\"M\":[],\"A\":[],\"S\":[]}\n",
    "\tfor line_index in range(len(puzzle_input)):\n",
    "\t\tfor character_index in range(len(puzzle_input[line_index])):\n",
    "\t\t\tif puzzle_input[line_index][character_index] == \"M\":\n",
    "\t\t\t\tletter_buffer[\"M\"].append({\"y\":line_index,\"x\":character_index})\n",
    "\t\t\t\tcontinue\n",
    "\t\t\tif puzzle_input[line_index][character_index] == \"A\":\n",
    "\t\t\t\tletter_buffer[\"A\"].append({\"y\":line_index,\"x\":character_index})\n",
    "\t\t\t\tcontinue\n",
    "\t\t\tif puzzle_input[line_index][character_index] == \"S\":\n",
    "\t\t\t\tletter_buffer[\"S\"].append({\"y\":line_index,\"x\":character_index})\n",
    "\t\t\t\tcontinue\n",
    "\n",
    "\treturn letter_buffer"
   ]
  },
  {
   "cell_type": "code",
   "execution_count": 23,
   "metadata": {},
   "outputs": [],
   "source": [
    "def word_search_2(characters):\n",
    "\tdirections = [\n",
    "\t\t\t{\"x\": 1, \"y\": -1},\n",
    "\t\t\t{\"x\": 1, \"y\": 1},\n",
    "\t\t\t{\"x\": -1, \"y\": 1},\n",
    "\t\t\t{\"x\": -1, \"y\": -1},\n",
    "\t\t]\n",
    "\t\n",
    "\tletters = [\"M\",\"A\",\"S\"]\n",
    "\n",
    "\tcenters_buffer = []\n",
    "\n",
    "\tamount = 0\n",
    "\t\n",
    "\tfor ocurrence in characters[\"M\"]:\n",
    "\t\t# print(ocurrence)\n",
    "\t\tfor direction in directions:\n",
    "\t\t\tdepth = 0\n",
    "\t\t\twhile depth < 2:\n",
    "\t\t\t\t# print(depth)\n",
    "\t\t\t\tif {\n",
    "\t\t\t\t\t\"x\": ocurrence[\"x\"]\n",
    "\t\t\t\t\t+ direction[\"x\"]\n",
    "\t\t\t\t\t* (depth + 1),\n",
    "\t\t\t\t\t\"y\": ocurrence[\"y\"]\n",
    "\t\t\t\t\t+ direction[\"y\"]\n",
    "\t\t\t\t\t* (depth + 1),\n",
    "\t\t\t\t\t} in characters[letters[depth+1]]:\n",
    "\t\t\t\t\tdepth += 1\n",
    "\t\t\t\telse:\n",
    "\t\t\t\t\tbreak\n",
    "\t\t\tif depth > 1:\n",
    "\t\t\t\tif {\n",
    "\t\t\t\t\t\"x\": ocurrence[\"x\"]\n",
    "\t\t\t\t\t+ direction[\"x\"],\n",
    "\t\t\t\t\t\"y\": ocurrence[\"y\"]\n",
    "\t\t\t\t\t+ direction[\"y\"],\n",
    "\t\t\t\t\t} in centers_buffer:\n",
    "\t\t\t\t\tamount += 1\n",
    "\t\t\t\telse:\n",
    "\t\t\t\t\tcenters_buffer.append({\n",
    "\t\t\t\t\t\"x\": ocurrence[\"x\"]\n",
    "\t\t\t\t\t+ direction[\"x\"],\n",
    "\t\t\t\t\t\"y\": ocurrence[\"y\"]\n",
    "\t\t\t\t\t+ direction[\"y\"],\n",
    "\t\t\t\t\t})\n",
    "\n",
    "\treturn amount"
   ]
  },
  {
   "cell_type": "code",
   "execution_count": 24,
   "metadata": {},
   "outputs": [
    {
     "name": "stdout",
     "output_type": "stream",
     "text": [
      "1965\n"
     ]
    }
   ],
   "source": [
    "input = open(\"input.txt\")\n",
    "\n",
    "print(word_search_2(letter_map_2(input.readlines())))"
   ]
  }
 ],
 "metadata": {
  "kernelspec": {
   "display_name": ".venv",
   "language": "python",
   "name": "python3"
  },
  "language_info": {
   "codemirror_mode": {
    "name": "ipython",
    "version": 3
   },
   "file_extension": ".py",
   "mimetype": "text/x-python",
   "name": "python",
   "nbconvert_exporter": "python",
   "pygments_lexer": "ipython3",
   "version": "3.9.6"
  }
 },
 "nbformat": 4,
 "nbformat_minor": 2
}
