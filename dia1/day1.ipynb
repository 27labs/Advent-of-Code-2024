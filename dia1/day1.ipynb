{
 "cells": [
  {
   "cell_type": "markdown",
   "metadata": {},
   "source": [
    "## Parte 1"
   ]
  },
  {
   "cell_type": "code",
   "execution_count": 34,
   "metadata": {},
   "outputs": [],
   "source": [
    "list_left, list_right = [], []\n",
    "\n",
    "def read_input(puzzle_input):\n",
    "\tlist_left.clear()\n",
    "\tlist_right.clear()\n",
    "\tfor line in puzzle_input:\n",
    "\t\t[left, right] = line.strip().split()\n",
    "\t\tlist_left.append(int(left))\n",
    "\t\tlist_right.append(int(right))"
   ]
  },
  {
   "cell_type": "code",
   "execution_count": 35,
   "metadata": {},
   "outputs": [],
   "source": [
    "def sort_lists():\n",
    "\tlist_left.sort()\n",
    "\tlist_right.sort()"
   ]
  },
  {
   "cell_type": "code",
   "execution_count": 36,
   "metadata": {},
   "outputs": [],
   "source": [
    "def calculate_distance():\n",
    "\tdistance = 0\n",
    "\tfor index in range(len(list_left)):\n",
    "\t\tdistance += abs(list_left[index] - list_right[index])\n",
    "\treturn distance"
   ]
  },
  {
   "cell_type": "code",
   "execution_count": 37,
   "metadata": {},
   "outputs": [
    {
     "name": "stdout",
     "output_type": "stream",
     "text": [
      "2742123\n"
     ]
    }
   ],
   "source": [
    "input = open(\"input.txt\",\"r\")\n",
    "\n",
    "read_input(input)\n",
    "sort_lists()\n",
    "print(calculate_distance())\n",
    "\n",
    "input.close()"
   ]
  },
  {
   "cell_type": "markdown",
   "metadata": {},
   "source": [
    "## Parte 2"
   ]
  },
  {
   "cell_type": "code",
   "execution_count": 41,
   "metadata": {},
   "outputs": [],
   "source": [
    "def calculate_similarity():\n",
    "\tscore = 0\n",
    "\tfor number in list_left:\n",
    "\t\tscore += number * len([pair for pair in list_right if pair == number])\n",
    "\treturn score"
   ]
  },
  {
   "cell_type": "code",
   "execution_count": 43,
   "metadata": {},
   "outputs": [
    {
     "name": "stdout",
     "output_type": "stream",
     "text": [
      "21328497\n"
     ]
    }
   ],
   "source": [
    "input = open(\"input.txt\", \"r\")\n",
    "\n",
    "read_input(input)\n",
    "print(calculate_similarity())\n",
    "\n",
    "input.close()"
   ]
  }
 ],
 "metadata": {
  "kernelspec": {
   "display_name": ".venv",
   "language": "python",
   "name": "python3"
  },
  "language_info": {
   "codemirror_mode": {
    "name": "ipython",
    "version": 3
   },
   "file_extension": ".py",
   "mimetype": "text/x-python",
   "name": "python",
   "nbconvert_exporter": "python",
   "pygments_lexer": "ipython3",
   "version": "3.9.6"
  }
 },
 "nbformat": 4,
 "nbformat_minor": 2
}
