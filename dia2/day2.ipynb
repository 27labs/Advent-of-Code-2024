{
 "cells": [
  {
   "cell_type": "markdown",
   "metadata": {},
   "source": [
    "## Parte 1"
   ]
  },
  {
   "cell_type": "code",
   "execution_count": 2,
   "metadata": {},
   "outputs": [],
   "source": [
    "safe_reports = 0\n",
    "\n",
    "def check_report(report):\n",
    "\tdirection = int(report[0]) - int(report[1])\n",
    "\tfor index in range(len(report) - 1):\n",
    "\t\tdifference = int(report[index]) - int(report[index + 1])\n",
    "\t\tif direction * difference < 1 or abs(difference) > 3:\n",
    "\t\t\treturn index\n",
    "\treturn -1\n",
    "\t\t\t"
   ]
  },
  {
   "cell_type": "code",
   "execution_count": 3,
   "metadata": {},
   "outputs": [
    {
     "name": "stdout",
     "output_type": "stream",
     "text": [
      "660\n"
     ]
    }
   ],
   "source": [
    "input = open(\"input.txt\")\n",
    "\n",
    "safe_reports = 0\n",
    "\n",
    "for line in input:\n",
    "\tlevel_report = line.strip().split()\n",
    "\tunsafety = check_report(level_report)\n",
    "\tif unsafety < 0:\n",
    "\t\tsafe_reports += 1\n",
    "\n",
    "print(safe_reports)"
   ]
  },
  {
   "cell_type": "markdown",
   "metadata": {},
   "source": [
    "## Parte 2"
   ]
  },
  {
   "cell_type": "code",
   "execution_count": 5,
   "metadata": {},
   "outputs": [
    {
     "name": "stdout",
     "output_type": "stream",
     "text": [
      "689\n"
     ]
    }
   ],
   "source": [
    "input = open(\"input.txt\")\n",
    "\n",
    "safe_reports = 0\n",
    "\n",
    "for line in input:\n",
    "\tlevel_report = line.strip().split()\n",
    "\tunsafety = check_report(level_report)\n",
    "\tif unsafety < 0:\n",
    "\t\tsafe_reports += 1\n",
    "\telse:\n",
    "\t\tdampened_report = level_report.copy()\n",
    "\t\tdel dampened_report[0]\n",
    "\t\tif check_report(dampened_report) < 0:\n",
    "\t\t\tsafe_reports += 1\n",
    "\t\telse:\n",
    "\t\t\tdampened_report = level_report.copy()\n",
    "\t\t\tdel dampened_report[unsafety]\n",
    "\t\t\tif check_report(dampened_report) < 0:\n",
    "\t\t\t\tsafe_reports += 1\n",
    "\t\t\telse:\n",
    "\t\t\t\tdampened_report = level_report.copy()\n",
    "\t\t\t\tdel dampened_report[unsafety + 1]\n",
    "\t\t\t\tif check_report(dampened_report) < 0:\n",
    "\t\t\t\t\tsafe_reports += 1\n",
    "\n",
    "print(safe_reports)"
   ]
  }
 ],
 "metadata": {
  "kernelspec": {
   "display_name": ".venv",
   "language": "python",
   "name": "python3"
  },
  "language_info": {
   "codemirror_mode": {
    "name": "ipython",
    "version": 3
   },
   "file_extension": ".py",
   "mimetype": "text/x-python",
   "name": "python",
   "nbconvert_exporter": "python",
   "pygments_lexer": "ipython3",
   "version": "3.9.6"
  }
 },
 "nbformat": 4,
 "nbformat_minor": 2
}
