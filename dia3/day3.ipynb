{
 "cells": [
  {
   "cell_type": "markdown",
   "metadata": {},
   "source": [
    "## Parte 1"
   ]
  },
  {
   "cell_type": "code",
   "execution_count": null,
   "metadata": {},
   "outputs": [],
   "source": [
    "import re\n",
    "\n",
    "def multiply(puzzle_input, regex):\n",
    "\tsum = 0\n",
    "\tenabled = True\n",
    "\n",
    "\tfor line in puzzle_input:\n",
    "\t\tfor multiplication in re.findall(regex,line):\n",
    "\t\t\tif multiplication == \"do()\":\n",
    "\t\t\t\tenabled = True\n",
    "\t\t\telif multiplication == \"don't()\":\n",
    "\t\t\t\tenabled = False\n",
    "\t\t\telse:\n",
    "\t\t\t\tif enabled:\n",
    "\t\t\t\t\tnumbers = re.findall(\"\\d+\",multiplication)\n",
    "\t\t\t\t\tsum += int(numbers[0]) * int(numbers[1])\n",
    "\t\n",
    "\treturn sum"
   ]
  },
  {
   "cell_type": "code",
   "execution_count": 16,
   "metadata": {},
   "outputs": [
    {
     "data": {
      "text/plain": [
       "159892596"
      ]
     },
     "execution_count": 16,
     "metadata": {},
     "output_type": "execute_result"
    }
   ],
   "source": [
    "input = open(\"input.txt\")\n",
    "\n",
    "multiply(input,\"mul\\([1-9][0-9]?[0-9]?,[1-9][0-9]?[0-9]?\\)\")"
   ]
  },
  {
   "cell_type": "markdown",
   "metadata": {},
   "source": [
    "## Parte 2"
   ]
  },
  {
   "cell_type": "code",
   "execution_count": 17,
   "metadata": {},
   "outputs": [
    {
     "data": {
      "text/plain": [
       "92626942"
      ]
     },
     "execution_count": 17,
     "metadata": {},
     "output_type": "execute_result"
    }
   ],
   "source": [
    "input = open(\"input.txt\")\n",
    "\n",
    "multiply(input,\"mul\\([1-9][0-9]?[0-9]?,[1-9][0-9]?[0-9]?\\)|do\\(\\)|don't\\(\\)\")"
   ]
  }
 ],
 "metadata": {
  "kernelspec": {
   "display_name": ".venv",
   "language": "python",
   "name": "python3"
  },
  "language_info": {
   "codemirror_mode": {
    "name": "ipython",
    "version": 3
   },
   "file_extension": ".py",
   "mimetype": "text/x-python",
   "name": "python",
   "nbconvert_exporter": "python",
   "pygments_lexer": "ipython3",
   "version": "3.9.6"
  }
 },
 "nbformat": 4,
 "nbformat_minor": 2
}
